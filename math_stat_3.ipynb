{
 "cells": [
  {
   "cell_type": "markdown",
   "metadata": {},
   "source": [
    "задание №1\n",
    "\n",
    "Даны значения зарплат из выборки выпускников: 100, 80, 75, 77, 89, 33, 45, 25, 65, 17, 30, 24, 57, 55, 70, 75, 65, 84, 90, 150. Посчитать (желательно без использования статистических методов наподобие std, var, mean) среднее арифметическое, среднее квадратичное отклонение, смещенную и несмещенную оценки дисперсий для данной выборки."
   ]
  },
  {
   "cell_type": "code",
   "execution_count": 34,
   "metadata": {},
   "outputs": [],
   "source": [
    "import numpy as np\n",
    "import math"
   ]
  },
  {
   "cell_type": "code",
   "execution_count": 38,
   "metadata": {},
   "outputs": [
    {
     "data": {
      "text/plain": [
       "array([100,  80,  75,  77,  89,  33,  45,  25,  65,  17,  30,  24,  57,\n",
       "        55,  70,  75,  65,  84,  90, 150])"
      ]
     },
     "execution_count": 38,
     "metadata": {},
     "output_type": "execute_result"
    }
   ],
   "source": [
    "z=np.array([100, 80, 75, 77, 89, 33, 45, 25, 65, 17, 30, 24, 57, 55, 70, 75, 65, 84, 90, 150])\n",
    "z\n"
   ]
  },
  {
   "cell_type": "code",
   "execution_count": 23,
   "metadata": {},
   "outputs": [
    {
     "data": {
      "text/plain": [
       "array([ 17,  24,  25,  30,  33,  45,  55,  57,  65,  65,  70,  75,  75,\n",
       "        77,  80,  84,  89,  90, 100, 150])"
      ]
     },
     "execution_count": 23,
     "metadata": {},
     "output_type": "execute_result"
    }
   ],
   "source": [
    "z.sort()\n",
    "z\n"
   ]
  },
  {
   "cell_type": "code",
   "execution_count": 24,
   "metadata": {},
   "outputs": [
    {
     "data": {
      "text/plain": [
       "20"
      ]
     },
     "execution_count": 24,
     "metadata": {},
     "output_type": "execute_result"
    }
   ],
   "source": [
    "len(z)\n"
   ]
  },
  {
   "cell_type": "code",
   "execution_count": 53,
   "metadata": {},
   "outputs": [
    {
     "name": "stdout",
     "output_type": "stream",
     "text": [
      "среднее арифметическое -  65.3\n",
      "расчет с numpy -          65.3\n",
      "среднее квадратичное отклонение -  30.823854398825596\n",
      "расчет с numpy -                   30.823854398825596\n",
      "смещенная оценка дисперсии -     950.11\n",
      "расчет дисперсии numpy (смещ) -  950.11\n",
      "несмещенная оценка дисперсии -     1000.1157894736842\n",
      "расчет дисперсии numpy (несмещ) -  1000.1157894736842\n"
     ]
    }
   ],
   "source": [
    "summ_all = 0\n",
    "for i in range (0,len(z)):\n",
    "    summ_all =summ_all + z[i]\n",
    "sr_arifm = summ_all/len(z)\n",
    "print(\"среднее арифметическое - \", sr_arifm)\n",
    "print(\"расчет с numpy -         \",np.mean(z))\n",
    "\n",
    "\n",
    "summ_all = 0\n",
    "for i in range (0,len(z)):\n",
    "    summ_all =summ_all + (z[i]-sr_arifm)**2\n",
    "sr_kv_otkl = math.sqrt(summ_all/len(z))\n",
    "\n",
    "\n",
    "print(\"среднее квадратичное отклонение - \", sr_kv_otkl)\n",
    "print(\"расчет с numpy -                  \",np.std(z))\n",
    "\n",
    "print(\"смещенная оценка дисперсии -    \", summ_all/len(z))\n",
    "print(\"расчет дисперсии numpy (смещ) - \", np.var(z))\n",
    "print(\"несмещенная оценка дисперсии -    \", (summ_all/(len(z)-1)))\n",
    "print(\"расчет дисперсии numpy (несмещ) - \", np.var(z,ddof = 1))"
   ]
  },
  {
   "cell_type": "code",
   "execution_count": 18,
   "metadata": {},
   "outputs": [
    {
     "data": {
      "text/plain": [
       "70"
      ]
     },
     "execution_count": 18,
     "metadata": {},
     "output_type": "execute_result"
    }
   ],
   "source": [
    "if len(z)%2 == 0:\n",
    "    mediana = (z[(len(z)//2)]+z[(len(z)//2)-1])/2\n",
    "else:\n",
    "    mediana = z[(len(z)//2)]\n",
    "\n",
    "mediana\n",
    "        "
   ]
  },
  {
   "cell_type": "markdown",
   "metadata": {},
   "source": [
    "Задание №2\n",
    "\n",
    "В первом ящике находится 8 мячей, из которых 5 - белые. Во втором ящике - 12 мячей, из которых 5 белых. Из первого ящика вытаскивают случайным образом два мяча, из второго - 4. Какова вероятность того, что 3 мяча белые?"
   ]
  },
  {
   "cell_type": "code",
   "execution_count": 54,
   "metadata": {},
   "outputs": [],
   "source": [
    "def combinations(n,k):\n",
    "    return int(math.factorial(n)/(math.factorial(k)*math.factorial(n-k)))"
   ]
  },
  {
   "cell_type": "code",
   "execution_count": 57,
   "metadata": {},
   "outputs": [
    {
     "data": {
      "text/plain": [
       "0.01515151515151515"
      ]
     },
     "execution_count": 57,
     "metadata": {},
     "output_type": "execute_result"
    }
   ],
   "source": [
    "pos_0_3 = (combinations(3,2)/combinations(8,2))*((combinations(5,3)*combinations(7,1))/combinations(12,4))\n",
    "pos_0_3"
   ]
  },
  {
   "cell_type": "code",
   "execution_count": 61,
   "metadata": {},
   "outputs": [
    {
     "data": {
      "text/plain": [
       "0.22727272727272727"
      ]
     },
     "execution_count": 61,
     "metadata": {},
     "output_type": "execute_result"
    }
   ],
   "source": [
    "pos_1_2 = ((combinations(5,1)*combinations(3,1))/combinations(8,2))*((combinations(5,2)*combinations(7,2))/combinations(12,4))\n",
    "pos_1_2"
   ]
  },
  {
   "cell_type": "code",
   "execution_count": 66,
   "metadata": {},
   "outputs": [
    {
     "data": {
      "text/plain": [
       "0.12626262626262627"
      ]
     },
     "execution_count": 66,
     "metadata": {},
     "output_type": "execute_result"
    }
   ],
   "source": [
    "pos_2_1 = (combinations(5,2)/combinations(8,2))*((combinations(5,1)*combinations(7,3))/combinations(12,4))\n",
    "pos_2_1"
   ]
  },
  {
   "cell_type": "code",
   "execution_count": 68,
   "metadata": {},
   "outputs": [
    {
     "data": {
      "text/plain": [
       "0.3686868686868687"
      ]
     },
     "execution_count": 68,
     "metadata": {},
     "output_type": "execute_result"
    }
   ],
   "source": [
    "pos_all = pos_0_3 + pos_1_2 + pos_2_1\n",
    "pos_all"
   ]
  },
  {
   "cell_type": "markdown",
   "metadata": {},
   "source": [
    "Задание №3\n",
    "\n",
    "На соревновании по биатлону один из трех спортсменов стреляет и попадает в мишень. Вероятность попадания для первого спортсмена равна 0.9, для второго — 0.8, для третьего — 0.6. Найти вероятность того, что выстрел произведен: a). первым спортсменом б). вторым спортсменом в). третьим спортсменом."
   ]
  },
  {
   "cell_type": "code",
   "execution_count": 72,
   "metadata": {},
   "outputs": [
    {
     "name": "stdout",
     "output_type": "stream",
     "text": [
      "PA =  0.7666666666666666\n"
     ]
    }
   ],
   "source": [
    "p1=0.9\n",
    "p2=0.8\n",
    "p3=0.6\n",
    "shoot = 1/3\n",
    "pa = shoot*p1 +shoot*p2 +shoot*p3\n",
    "print(\"PA = \",pa)"
   ]
  },
  {
   "cell_type": "code",
   "execution_count": 75,
   "metadata": {},
   "outputs": [
    {
     "name": "stdout",
     "output_type": "stream",
     "text": [
      "вероятность выстрела - первый спортсмен:  0.391304347826087\n",
      "вероятность выстрела - второй спортсмен:  0.3478260869565218\n",
      "вероятность выстрела - третий спортсмен:  0.2608695652173913\n"
     ]
    }
   ],
   "source": [
    "p1a = (shoot*p1)/pa\n",
    "p2a = (shoot*p2)/pa\n",
    "p3a = (shoot*p3)/pa\n",
    "print(\"вероятность выстрела - первый спортсмен: \", p1a)\n",
    "print(\"вероятность выстрела - второй спортсмен: \", p2a)\n",
    "print(\"вероятность выстрела - третий спортсмен: \", p3a)"
   ]
  },
  {
   "cell_type": "markdown",
   "metadata": {},
   "source": [
    "Задание №4\n",
    "\n",
    "\n",
    "В университет на факультеты A и B поступило равное количество студентов, а на факультет C студентов поступило столько же, сколько на A и B вместе. Вероятность того, что студент факультета A сдаст первую сессию, равна 0.8. Для студента факультета B эта вероятность равна 0.7, а для студента факультета C - 0.9. Студент сдал первую сессию. Какова вероятность, что он учится: a). на факультете A б). на факультете B в). на факультете C?"
   ]
  },
  {
   "cell_type": "code",
   "execution_count": 76,
   "metadata": {},
   "outputs": [
    {
     "data": {
      "text/plain": [
       "0.825"
      ]
     },
     "execution_count": 76,
     "metadata": {},
     "output_type": "execute_result"
    }
   ],
   "source": [
    "p1 = 0.8\n",
    "p2 = 0.7\n",
    "p3 = 0.9\n",
    "\n",
    "student = 1/4 # для факультета С в 2 раза больше\n",
    "pa = student*p1 +student*p2 +student*2*p3\n",
    "pa"
   ]
  },
  {
   "cell_type": "code",
   "execution_count": 77,
   "metadata": {},
   "outputs": [
    {
     "name": "stdout",
     "output_type": "stream",
     "text": [
      "вероятность сдачи - студент факультета A:  0.24242424242424246\n",
      "вероятность сдачи - студент факультета B:  0.21212121212121213\n",
      "вероятность сдачи - студент факультета C:  0.5454545454545455\n"
     ]
    }
   ],
   "source": [
    "p1a = (student*p1)/pa\n",
    "p2a = (student*p2)/pa\n",
    "p3a = (student*2*p3)/pa\n",
    "print(\"вероятность сдачи - студент факультета A: \", p1a)\n",
    "print(\"вероятность сдачи - студент факультета B: \", p2a)\n",
    "print(\"вероятность сдачи - студент факультета C: \", p3a)"
   ]
  },
  {
   "cell_type": "markdown",
   "metadata": {},
   "source": [
    "Задание №5\n",
    "\n",
    "Устройство состоит из трех деталей. Для первой детали вероятность выйти из строя в первый месяц равна 0.1, для второй - 0.2, для третьей - 0.25. Какова вероятность того, что в первый месяц выйдут из строя: а). все детали б). только две детали в). хотя бы одна деталь г). от одной до двух деталей?"
   ]
  },
  {
   "cell_type": "code",
   "execution_count": 81,
   "metadata": {},
   "outputs": [
    {
     "name": "stdout",
     "output_type": "stream",
     "text": [
      "PA =  0.18333333333333335\n"
     ]
    }
   ],
   "source": [
    "p1=0.1\n",
    "p2=0.2\n",
    "p3=0.25\n"
   ]
  },
  {
   "cell_type": "code",
   "execution_count": 85,
   "metadata": {},
   "outputs": [
    {
     "name": "stdout",
     "output_type": "stream",
     "text": [
      "вероятность - все вышли из строя:  0.005000000000000001\n"
     ]
    }
   ],
   "source": [
    "p_all = p1*p2*p3\n",
    "print(\"вероятность - все вышли из строя: \",p_all)"
   ]
  },
  {
   "cell_type": "code",
   "execution_count": 86,
   "metadata": {},
   "outputs": [
    {
     "name": "stdout",
     "output_type": "stream",
     "text": [
      "вероятность - 2 вышли из строя:  0.08\n"
     ]
    }
   ],
   "source": [
    "p_two = (1-p1)*p2*p3 + p1*(1-p2)*p3 + p1*p2*(1-p3)\n",
    "print(\"вероятность - 2 вышли из строя: \",p_two)"
   ]
  },
  {
   "cell_type": "code",
   "execution_count": 87,
   "metadata": {},
   "outputs": [
    {
     "name": "stdout",
     "output_type": "stream",
     "text": [
      "вероятность - >0 вышли из строя:  0.45999999999999996\n"
     ]
    }
   ],
   "source": [
    "p_one_more = 1- (1-p1)*(1-p2)*(1-p3) # противоположная вероятности ни одна не вышла из строя\n",
    "print(\"вероятность - >0 вышли из строя: \",p_one_more)"
   ]
  },
  {
   "cell_type": "code",
   "execution_count": 88,
   "metadata": {},
   "outputs": [
    {
     "name": "stdout",
     "output_type": "stream",
     "text": [
      "вероятность - 1 или 2 вышли из строя:  0.45499999999999996\n"
     ]
    }
   ],
   "source": [
    "p_one_two = 1- p_all - (1-p1)*(1-p2)*(1-p3)  # противоположное: все вышли из строя и ни одна не вышла из строя\n",
    "print(\"вероятность - 1 или 2 вышли из строя: \",p_one_two)"
   ]
  }
 ],
 "metadata": {
  "kernelspec": {
   "display_name": "Python 3",
   "language": "python",
   "name": "python3"
  },
  "language_info": {
   "codemirror_mode": {
    "name": "ipython",
    "version": 3
   },
   "file_extension": ".py",
   "mimetype": "text/x-python",
   "name": "python",
   "nbconvert_exporter": "python",
   "pygments_lexer": "ipython3",
   "version": "3.7.6"
  }
 },
 "nbformat": 4,
 "nbformat_minor": 4
}
